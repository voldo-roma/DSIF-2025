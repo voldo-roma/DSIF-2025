{
 "cells": [
  {
   "cell_type": "markdown",
   "metadata": {},
   "source": [
    "# OPTIONAL Assignment 3 Challenger Model: Random Forest vs Baseline (Logistic Regression)\n",
    "## by Dom Sileika"
   ]
  },
  {
   "cell_type": "code",
   "execution_count": null,
   "metadata": {},
   "outputs": [],
   "source": [
    "\n",
    "# Deadline 31st of March 2025\n",
    "# Description: This script cleans up loan status dataset, runs a logistic regressiona and compares it to  a Random Forest model to predict the probability of defaulting on a loan.\n",
    "# Confusion matrix and ROC curve are plotted for both models in the end.\n",
    "\n",
    "import pandas as pd\n",
    "import numpy as np\n",
    "import matplotlib.pyplot as plt\n",
    "import seaborn as sns\n",
    "from sklearn.model_selection import train_test_split\n",
    "from sklearn.preprocessing import LabelEncoder, StandardScaler\n",
    "\n",
    "# models:\n",
    "from sklearn.linear_model import LogisticRegression\n",
    "from sklearn.ensemble import RandomForestClassifier\n",
    "# model evaluation scoring:\n",
    "\n",
    "from sklearn.metrics import accuracy_score, precision_score, recall_score, f1_score, roc_auc_score, confusion_matrix, roc_curve\n",
    "from sklearn.preprocessing import StandardScaler"
   ]
  },
  {
   "cell_type": "code",
   "execution_count": 3,
   "metadata": {},
   "outputs": [
    {
     "name": "stderr",
     "output_type": "stream",
     "text": [
      "/var/folders/ct/cn164ypd6vs2f6q67c6qxhph0000gn/T/ipykernel_72641/1154105417.py:2: DtypeWarning: Columns (1,48,58,117,127,128,129,132,133,134,137) have mixed types. Specify dtype option on import or set low_memory=False.\n",
      "  df = pd.read_csv(\"python-material/data/1-raw/lending-club-2007-2020Q3/Loan_status_2007-2020Q3.csv\")\n"
     ]
    },
    {
     "data": {
      "text/html": [
       "<div>\n",
       "<style scoped>\n",
       "    .dataframe tbody tr th:only-of-type {\n",
       "        vertical-align: middle;\n",
       "    }\n",
       "\n",
       "    .dataframe tbody tr th {\n",
       "        vertical-align: top;\n",
       "    }\n",
       "\n",
       "    .dataframe thead th {\n",
       "        text-align: right;\n",
       "    }\n",
       "</style>\n",
       "<table border=\"1\" class=\"dataframe\">\n",
       "  <thead>\n",
       "    <tr style=\"text-align: right;\">\n",
       "      <th></th>\n",
       "      <th>Unnamed: 0</th>\n",
       "      <th>id</th>\n",
       "      <th>loan_amnt</th>\n",
       "      <th>funded_amnt</th>\n",
       "      <th>funded_amnt_inv</th>\n",
       "      <th>term</th>\n",
       "      <th>int_rate</th>\n",
       "      <th>installment</th>\n",
       "      <th>grade</th>\n",
       "      <th>sub_grade</th>\n",
       "      <th>...</th>\n",
       "      <th>hardship_start_date</th>\n",
       "      <th>hardship_end_date</th>\n",
       "      <th>payment_plan_start_date</th>\n",
       "      <th>hardship_length</th>\n",
       "      <th>hardship_dpd</th>\n",
       "      <th>hardship_loan_status</th>\n",
       "      <th>orig_projected_additional_accrued_interest</th>\n",
       "      <th>hardship_payoff_balance_amount</th>\n",
       "      <th>hardship_last_payment_amount</th>\n",
       "      <th>debt_settlement_flag</th>\n",
       "    </tr>\n",
       "  </thead>\n",
       "  <tbody>\n",
       "    <tr>\n",
       "      <th>0</th>\n",
       "      <td>0</td>\n",
       "      <td>1077501</td>\n",
       "      <td>5000.0</td>\n",
       "      <td>5000.0</td>\n",
       "      <td>4975.0</td>\n",
       "      <td>36 months</td>\n",
       "      <td>10.65%</td>\n",
       "      <td>162.87</td>\n",
       "      <td>B</td>\n",
       "      <td>B2</td>\n",
       "      <td>...</td>\n",
       "      <td>NaN</td>\n",
       "      <td>NaN</td>\n",
       "      <td>NaN</td>\n",
       "      <td>NaN</td>\n",
       "      <td>NaN</td>\n",
       "      <td>NaN</td>\n",
       "      <td>NaN</td>\n",
       "      <td>NaN</td>\n",
       "      <td>NaN</td>\n",
       "      <td>N</td>\n",
       "    </tr>\n",
       "    <tr>\n",
       "      <th>1</th>\n",
       "      <td>1</td>\n",
       "      <td>1077430</td>\n",
       "      <td>2500.0</td>\n",
       "      <td>2500.0</td>\n",
       "      <td>2500.0</td>\n",
       "      <td>60 months</td>\n",
       "      <td>15.27%</td>\n",
       "      <td>59.83</td>\n",
       "      <td>C</td>\n",
       "      <td>C4</td>\n",
       "      <td>...</td>\n",
       "      <td>NaN</td>\n",
       "      <td>NaN</td>\n",
       "      <td>NaN</td>\n",
       "      <td>NaN</td>\n",
       "      <td>NaN</td>\n",
       "      <td>NaN</td>\n",
       "      <td>NaN</td>\n",
       "      <td>NaN</td>\n",
       "      <td>NaN</td>\n",
       "      <td>N</td>\n",
       "    </tr>\n",
       "    <tr>\n",
       "      <th>2</th>\n",
       "      <td>2</td>\n",
       "      <td>1077175</td>\n",
       "      <td>2400.0</td>\n",
       "      <td>2400.0</td>\n",
       "      <td>2400.0</td>\n",
       "      <td>36 months</td>\n",
       "      <td>15.96%</td>\n",
       "      <td>84.33</td>\n",
       "      <td>C</td>\n",
       "      <td>C5</td>\n",
       "      <td>...</td>\n",
       "      <td>NaN</td>\n",
       "      <td>NaN</td>\n",
       "      <td>NaN</td>\n",
       "      <td>NaN</td>\n",
       "      <td>NaN</td>\n",
       "      <td>NaN</td>\n",
       "      <td>NaN</td>\n",
       "      <td>NaN</td>\n",
       "      <td>NaN</td>\n",
       "      <td>N</td>\n",
       "    </tr>\n",
       "    <tr>\n",
       "      <th>3</th>\n",
       "      <td>3</td>\n",
       "      <td>1076863</td>\n",
       "      <td>10000.0</td>\n",
       "      <td>10000.0</td>\n",
       "      <td>10000.0</td>\n",
       "      <td>36 months</td>\n",
       "      <td>13.49%</td>\n",
       "      <td>339.31</td>\n",
       "      <td>C</td>\n",
       "      <td>C1</td>\n",
       "      <td>...</td>\n",
       "      <td>NaN</td>\n",
       "      <td>NaN</td>\n",
       "      <td>NaN</td>\n",
       "      <td>NaN</td>\n",
       "      <td>NaN</td>\n",
       "      <td>NaN</td>\n",
       "      <td>NaN</td>\n",
       "      <td>NaN</td>\n",
       "      <td>NaN</td>\n",
       "      <td>N</td>\n",
       "    </tr>\n",
       "    <tr>\n",
       "      <th>4</th>\n",
       "      <td>4</td>\n",
       "      <td>1075358</td>\n",
       "      <td>3000.0</td>\n",
       "      <td>3000.0</td>\n",
       "      <td>3000.0</td>\n",
       "      <td>60 months</td>\n",
       "      <td>12.69%</td>\n",
       "      <td>67.79</td>\n",
       "      <td>B</td>\n",
       "      <td>B5</td>\n",
       "      <td>...</td>\n",
       "      <td>NaN</td>\n",
       "      <td>NaN</td>\n",
       "      <td>NaN</td>\n",
       "      <td>NaN</td>\n",
       "      <td>NaN</td>\n",
       "      <td>NaN</td>\n",
       "      <td>NaN</td>\n",
       "      <td>NaN</td>\n",
       "      <td>NaN</td>\n",
       "      <td>N</td>\n",
       "    </tr>\n",
       "  </tbody>\n",
       "</table>\n",
       "<p>5 rows × 142 columns</p>\n",
       "</div>"
      ],
      "text/plain": [
       "   Unnamed: 0       id  loan_amnt  funded_amnt  funded_amnt_inv        term  \\\n",
       "0           0  1077501     5000.0       5000.0           4975.0   36 months   \n",
       "1           1  1077430     2500.0       2500.0           2500.0   60 months   \n",
       "2           2  1077175     2400.0       2400.0           2400.0   36 months   \n",
       "3           3  1076863    10000.0      10000.0          10000.0   36 months   \n",
       "4           4  1075358     3000.0       3000.0           3000.0   60 months   \n",
       "\n",
       "  int_rate  installment grade sub_grade  ... hardship_start_date  \\\n",
       "0   10.65%       162.87     B        B2  ...                 NaN   \n",
       "1   15.27%        59.83     C        C4  ...                 NaN   \n",
       "2   15.96%        84.33     C        C5  ...                 NaN   \n",
       "3   13.49%       339.31     C        C1  ...                 NaN   \n",
       "4   12.69%        67.79     B        B5  ...                 NaN   \n",
       "\n",
       "  hardship_end_date payment_plan_start_date  hardship_length hardship_dpd  \\\n",
       "0               NaN                     NaN              NaN          NaN   \n",
       "1               NaN                     NaN              NaN          NaN   \n",
       "2               NaN                     NaN              NaN          NaN   \n",
       "3               NaN                     NaN              NaN          NaN   \n",
       "4               NaN                     NaN              NaN          NaN   \n",
       "\n",
       "  hardship_loan_status orig_projected_additional_accrued_interest  \\\n",
       "0                  NaN                                        NaN   \n",
       "1                  NaN                                        NaN   \n",
       "2                  NaN                                        NaN   \n",
       "3                  NaN                                        NaN   \n",
       "4                  NaN                                        NaN   \n",
       "\n",
       "  hardship_payoff_balance_amount hardship_last_payment_amount  \\\n",
       "0                            NaN                          NaN   \n",
       "1                            NaN                          NaN   \n",
       "2                            NaN                          NaN   \n",
       "3                            NaN                          NaN   \n",
       "4                            NaN                          NaN   \n",
       "\n",
       "  debt_settlement_flag  \n",
       "0                    N  \n",
       "1                    N  \n",
       "2                    N  \n",
       "3                    N  \n",
       "4                    N  \n",
       "\n",
       "[5 rows x 142 columns]"
      ]
     },
     "execution_count": 3,
     "metadata": {},
     "output_type": "execute_result"
    }
   ],
   "source": [
    "# Load the data - Loan status dataset\n",
    "df = pd.read_csv(\"python-material/data/1-raw/lending-club-2007-2020Q3/Loan_status_2007-2020Q3.csv\")\n",
    "df.head()"
   ]
  },
  {
   "cell_type": "code",
   "execution_count": 4,
   "metadata": {},
   "outputs": [
    {
     "name": "stdout",
     "output_type": "stream",
     "text": [
      "Columns in the dataset:\n",
      "['Unnamed: 0', 'id', 'loan_amnt', 'funded_amnt', 'funded_amnt_inv', 'term', 'int_rate', 'installment', 'grade', 'sub_grade', 'emp_title', 'emp_length', 'home_ownership', 'annual_inc', 'verification_status', 'issue_d', 'loan_status', 'pymnt_plan', 'url', 'purpose', 'title', 'zip_code', 'addr_state', 'dti', 'delinq_2yrs', 'earliest_cr_line', 'fico_range_low', 'fico_range_high', 'inq_last_6mths', 'mths_since_last_delinq', 'mths_since_last_record', 'open_acc', 'pub_rec', 'revol_bal', 'revol_util', 'total_acc', 'initial_list_status', 'out_prncp', 'out_prncp_inv', 'total_pymnt', 'total_pymnt_inv', 'total_rec_prncp', 'total_rec_int', 'total_rec_late_fee', 'recoveries', 'collection_recovery_fee', 'last_pymnt_d', 'last_pymnt_amnt', 'next_pymnt_d', 'last_credit_pull_d', 'last_fico_range_high', 'last_fico_range_low', 'collections_12_mths_ex_med', 'mths_since_last_major_derog', 'policy_code', 'application_type', 'annual_inc_joint', 'dti_joint', 'verification_status_joint', 'acc_now_delinq', 'tot_coll_amt', 'tot_cur_bal', 'open_acc_6m', 'open_act_il', 'open_il_12m', 'open_il_24m', 'mths_since_rcnt_il', 'total_bal_il', 'il_util', 'open_rv_12m', 'open_rv_24m', 'max_bal_bc', 'all_util', 'total_rev_hi_lim', 'inq_fi', 'total_cu_tl', 'inq_last_12m', 'acc_open_past_24mths', 'avg_cur_bal', 'bc_open_to_buy', 'bc_util', 'chargeoff_within_12_mths', 'delinq_amnt', 'mo_sin_old_il_acct', 'mo_sin_old_rev_tl_op', 'mo_sin_rcnt_rev_tl_op', 'mo_sin_rcnt_tl', 'mort_acc', 'mths_since_recent_bc', 'mths_since_recent_bc_dlq', 'mths_since_recent_inq', 'mths_since_recent_revol_delinq', 'num_accts_ever_120_pd', 'num_actv_bc_tl', 'num_actv_rev_tl', 'num_bc_sats', 'num_bc_tl', 'num_il_tl', 'num_op_rev_tl', 'num_rev_accts', 'num_rev_tl_bal_gt_0', 'num_sats', 'num_tl_120dpd_2m', 'num_tl_30dpd', 'num_tl_90g_dpd_24m', 'num_tl_op_past_12m', 'pct_tl_nvr_dlq', 'percent_bc_gt_75', 'pub_rec_bankruptcies', 'tax_liens', 'tot_hi_cred_lim', 'total_bal_ex_mort', 'total_bc_limit', 'total_il_high_credit_limit', 'revol_bal_joint', 'sec_app_fico_range_low', 'sec_app_fico_range_high', 'sec_app_earliest_cr_line', 'sec_app_inq_last_6mths', 'sec_app_mort_acc', 'sec_app_open_acc', 'sec_app_revol_util', 'sec_app_open_act_il', 'sec_app_num_rev_accts', 'sec_app_chargeoff_within_12_mths', 'sec_app_collections_12_mths_ex_med', 'hardship_flag', 'hardship_type', 'hardship_reason', 'hardship_status', 'deferral_term', 'hardship_amount', 'hardship_start_date', 'hardship_end_date', 'payment_plan_start_date', 'hardship_length', 'hardship_dpd', 'hardship_loan_status', 'orig_projected_additional_accrued_interest', 'hardship_payoff_balance_amount', 'hardship_last_payment_amount', 'debt_settlement_flag']\n",
      "\n",
      "Missing values (%):\n",
      "hardship_loan_status                          95.097886\n",
      "hardship_reason                               95.090332\n",
      "hardship_status                               95.090229\n",
      "hardship_dpd                                  95.090161\n",
      "hardship_type                                 95.090127\n",
      "hardship_length                               95.090127\n",
      "payment_plan_start_date                       95.090127\n",
      "hardship_end_date                             95.090127\n",
      "hardship_start_date                           95.090127\n",
      "deferral_term                                 95.090127\n",
      "orig_projected_additional_accrued_interest    93.873169\n",
      "hardship_amount                               93.776228\n",
      "hardship_last_payment_amount                  93.776228\n",
      "hardship_payoff_balance_amount                93.776228\n",
      "sec_app_revol_util                            93.348574\n",
      "verification_status_joint                     93.341738\n",
      "revol_bal_joint                               93.237960\n",
      "sec_app_inq_last_6mths                        93.237926\n",
      "sec_app_open_act_il                           93.237926\n",
      "sec_app_earliest_cr_line                      93.237926\n",
      "dtype: float64\n"
     ]
    }
   ],
   "source": [
    "# Inspect columns - missing values>\n",
    "print(\"Columns in the dataset:\")\n",
    "print(df.columns.tolist())\n",
    "\n",
    "print(\"\\nMissing values (%):\")\n",
    "print((df.isnull().mean() * 100).sort_values(ascending=False).head(20))"
   ]
  },
  {
   "cell_type": "code",
   "execution_count": 5,
   "metadata": {},
   "outputs": [
    {
     "name": "stdout",
     "output_type": "stream",
     "text": [
      "Dropping high-missing columns: ['annual_inc_joint', 'dti_joint', 'verification_status_joint', 'revol_bal_joint', 'sec_app_fico_range_low', 'sec_app_fico_range_high', 'sec_app_earliest_cr_line', 'sec_app_inq_last_6mths', 'sec_app_mort_acc', 'sec_app_open_acc', 'sec_app_revol_util', 'sec_app_open_act_il', 'sec_app_num_rev_accts', 'sec_app_chargeoff_within_12_mths', 'sec_app_collections_12_mths_ex_med', 'hardship_type', 'hardship_reason', 'hardship_status', 'deferral_term', 'hardship_amount', 'hardship_start_date', 'hardship_end_date', 'payment_plan_start_date', 'hardship_length', 'hardship_dpd', 'hardship_loan_status', 'orig_projected_additional_accrued_interest', 'hardship_payoff_balance_amount', 'hardship_last_payment_amount']\n"
     ]
    }
   ],
   "source": [
    "# 3. Preprocessing, like in assignment 2\n",
    "# Drop high-missing / irrelevant columns\n",
    "# dropping obvious columns\n",
    "df = df.drop(columns=['Unnamed: 0', 'id', 'member_id', 'url'], errors='ignore')\n",
    "# 90% missing values\n",
    "high_missing = df.columns[df.isnull().mean() > 0.9]\n",
    "print(\"Dropping high-missing columns:\", list(high_missing))\n",
    "df = df.drop(columns=high_missing)\n",
    "# Drop rows with missing target\n",
    "df = df.dropna(subset=['loan_status'])"
   ]
  },
  {
   "cell_type": "code",
   "execution_count": 6,
   "metadata": {},
   "outputs": [
    {
     "name": "stdout",
     "output_type": "stream",
     "text": [
      "\n",
      "Target variable distribution:\n",
      "loan_status\n",
      "0    0.805116\n",
      "1    0.194884\n",
      "Name: proportion, dtype: float64\n"
     ]
    }
   ],
   "source": [
    "\n",
    "# Encode target variable to binary flag for simplicity\n",
    "binary_mapping = {\n",
    "    'Fully Paid': 0,\n",
    "    'Charged Off': 1\n",
    "}\n",
    "df = df[df['loan_status'].isin(binary_mapping.keys())]\n",
    "df['loan_status'] = df['loan_status'].map(binary_mapping)\n",
    "# Check the distribution of the target variable\n",
    "print(\"\\nTarget variable distribution:\")\n",
    "print(df['loan_status'].value_counts(normalize=True))\n"
   ]
  },
  {
   "cell_type": "code",
   "execution_count": 7,
   "metadata": {},
   "outputs": [
    {
     "name": "stdout",
     "output_type": "stream",
     "text": [
      "(2925493, 142)\n",
      "Index(['Unnamed: 0', 'id', 'loan_amnt', 'funded_amnt', 'funded_amnt_inv',\n",
      "       'term', 'int_rate', 'installment', 'grade', 'sub_grade',\n",
      "       ...\n",
      "       'hardship_start_date', 'hardship_end_date', 'payment_plan_start_date',\n",
      "       'hardship_length', 'hardship_dpd', 'hardship_loan_status',\n",
      "       'orig_projected_additional_accrued_interest',\n",
      "       'hardship_payoff_balance_amount', 'hardship_last_payment_amount',\n",
      "       'debt_settlement_flag'],\n",
      "      dtype='object', length=142)\n"
     ]
    }
   ],
   "source": [
    "df = pd.read_csv(\"python-material/data/1-raw/lending-club-2007-2020Q3/Loan_status_2007-2020Q3.csv\", low_memory=False)\n",
    "print(df.shape)\n",
    "print(df.columns)\n"
   ]
  },
  {
   "cell_type": "code",
   "execution_count": 8,
   "metadata": {},
   "outputs": [
    {
     "name": "stdout",
     "output_type": "stream",
     "text": [
      "['Fully Paid' 'Charged Off'\n",
      " 'Does not meet the credit policy. Status:Fully Paid'\n",
      " 'Does not meet the credit policy. Status:Charged Off' 'Current'\n",
      " 'Late (31-120 days)' 'In Grace Period' 'Late (16-30 days)' 'Default'\n",
      " 'Issued']\n"
     ]
    }
   ],
   "source": [
    "print(df['loan_status'].dropna().unique())\n",
    "# to drop rows with missing target"
   ]
  },
  {
   "cell_type": "code",
   "execution_count": 9,
   "metadata": {},
   "outputs": [],
   "source": [
    "# Only keep rows with the two target values\n",
    "target_values = ['Fully Paid', 'Charged Off']\n",
    "df = df[df['loan_status'].isin(target_values)]\n",
    "\n",
    "# Encode to binary flag\n",
    "df['loan_status'] = df['loan_status'].map({'Fully Paid': 0, 'Charged Off': 1})\n"
   ]
  },
  {
   "cell_type": "code",
   "execution_count": 10,
   "metadata": {},
   "outputs": [
    {
     "name": "stdout",
     "output_type": "stream",
     "text": [
      "loan_status\n",
      "0    0.805116\n",
      "1    0.194884\n",
      "Name: proportion, dtype: float64\n"
     ]
    }
   ],
   "source": [
    "print(df['loan_status'].value_counts(normalize=True))\n"
   ]
  },
  {
   "cell_type": "code",
   "execution_count": 11,
   "metadata": {},
   "outputs": [],
   "source": [
    "# Select useful numeric and low-cardinality categorical features\n",
    "selected_features = ['loan_amnt', 'term', 'int_rate', 'installment', 'annual_inc', 'purpose', 'dti']\n",
    "df = df[selected_features + ['loan_status']]\n"
   ]
  },
  {
   "cell_type": "markdown",
   "metadata": {},
   "source": [
    "### Feature Selection\n",
    "\n",
    "I selected a small set of relevant features that are known to be informative in predicting loan repayment outcomes:\n",
    "\n",
    "- **loan_amnt**: Total amount requested by the borrower\n",
    "- **term**: Loan duration (36 or 60 months), a strong signal for risk\n",
    "- **int_rate**: Interest rate on the loan, reflects borrower creditworthiness\n",
    "- **installment**: Monthly payment, related to both loan amount and term\n",
    "- **annual_inc**: Self-reported annual income — higher income may reduce default risk\n",
    "- **purpose**: Stated purpose of the loan, useful for behavioural clustering\n",
    "- **dti**: Debt-to-income ratio — a classic financial risk metric\n",
    "\n",
    "We avoided including features with high cardinality (like `emp_title`) or those which leak post-application information (like `loan_status` derivatives). This helps the model generalise better and reduces overfitting risk.\n"
   ]
  },
  {
   "cell_type": "code",
   "execution_count": 12,
   "metadata": {},
   "outputs": [],
   "source": [
    "# Fill numeric columns with median to address outliers\n",
    "for col in df.select_dtypes(include=np.number):\n",
    "    df[col] = df[col].fillna(df[col].median())\n",
    "\n",
    "# Fill categorical columns with mode - most frequent value\n",
    "for col in df.select_dtypes(include='object'):\n",
    "    df[col] = df[col].fillna(df[col].mode()[0])\n"
   ]
  },
  {
   "cell_type": "code",
   "execution_count": 13,
   "metadata": {},
   "outputs": [
    {
     "name": "stdout",
     "output_type": "stream",
     "text": [
      "\n",
      "Columns after one-hot encoding:\n",
      "['loan_amnt', 'installment', 'annual_inc', 'dti', 'loan_status', 'term_ 60 months', 'int_rate_  5.32%', 'int_rate_  5.42%', 'int_rate_  5.79%', 'int_rate_  5.93%', 'int_rate_  5.99%', 'int_rate_  6.00%', 'int_rate_  6.03%', 'int_rate_  6.07%', 'int_rate_  6.08%', 'int_rate_  6.11%', 'int_rate_  6.17%', 'int_rate_  6.19%', 'int_rate_  6.24%', 'int_rate_  6.39%', 'int_rate_  6.46%', 'int_rate_  6.49%', 'int_rate_  6.54%', 'int_rate_  6.62%', 'int_rate_  6.67%', 'int_rate_  6.68%', 'int_rate_  6.71%', 'int_rate_  6.72%', 'int_rate_  6.76%', 'int_rate_  6.83%', 'int_rate_  6.89%', 'int_rate_  6.91%', 'int_rate_  6.92%', 'int_rate_  6.97%', 'int_rate_  6.99%', 'int_rate_  7.02%', 'int_rate_  7.05%', 'int_rate_  7.07%', 'int_rate_  7.12%', 'int_rate_  7.14%', 'int_rate_  7.21%', 'int_rate_  7.24%', 'int_rate_  7.26%', 'int_rate_  7.29%', 'int_rate_  7.34%', 'int_rate_  7.35%', 'int_rate_  7.37%', 'int_rate_  7.39%', 'int_rate_  7.40%', 'int_rate_  7.42%', 'int_rate_  7.43%', 'int_rate_  7.46%', 'int_rate_  7.49%', 'int_rate_  7.51%', 'int_rate_  7.56%', 'int_rate_  7.59%', 'int_rate_  7.62%', 'int_rate_  7.66%', 'int_rate_  7.68%', 'int_rate_  7.69%', 'int_rate_  7.74%', 'int_rate_  7.75%', 'int_rate_  7.84%', 'int_rate_  7.88%', 'int_rate_  7.89%', 'int_rate_  7.90%', 'int_rate_  7.91%', 'int_rate_  7.96%', 'int_rate_  7.97%', 'int_rate_  7.99%', 'int_rate_  8.00%', 'int_rate_  8.07%', 'int_rate_  8.08%', 'int_rate_  8.18%', 'int_rate_  8.19%', 'int_rate_  8.24%', 'int_rate_  8.32%', 'int_rate_  8.38%', 'int_rate_  8.39%', 'int_rate_  8.46%', 'int_rate_  8.49%', 'int_rate_  8.59%', 'int_rate_  8.60%', 'int_rate_  8.63%', 'int_rate_  8.67%', 'int_rate_  8.70%', 'int_rate_  8.81%', 'int_rate_  8.88%', 'int_rate_  8.90%', 'int_rate_  8.94%', 'int_rate_  8.99%', 'int_rate_  9.01%', 'int_rate_  9.02%', 'int_rate_  9.07%', 'int_rate_  9.16%', 'int_rate_  9.17%', 'int_rate_  9.20%', 'int_rate_  9.25%', 'int_rate_  9.32%', 'int_rate_  9.33%', 'int_rate_  9.38%', 'int_rate_  9.43%', 'int_rate_  9.44%', 'int_rate_  9.45%', 'int_rate_  9.49%', 'int_rate_  9.51%', 'int_rate_  9.56%', 'int_rate_  9.58%', 'int_rate_  9.62%', 'int_rate_  9.63%', 'int_rate_  9.64%', 'int_rate_  9.67%', 'int_rate_  9.70%', 'int_rate_  9.71%', 'int_rate_  9.75%', 'int_rate_  9.76%', 'int_rate_  9.80%', 'int_rate_  9.83%', 'int_rate_  9.88%', 'int_rate_  9.91%', 'int_rate_  9.92%', 'int_rate_  9.93%', 'int_rate_  9.96%', 'int_rate_  9.99%', 'int_rate_ 10.00%', 'int_rate_ 10.01%', 'int_rate_ 10.07%', 'int_rate_ 10.08%', 'int_rate_ 10.14%', 'int_rate_ 10.15%', 'int_rate_ 10.16%', 'int_rate_ 10.19%', 'int_rate_ 10.20%', 'int_rate_ 10.25%', 'int_rate_ 10.28%', 'int_rate_ 10.33%', 'int_rate_ 10.36%', 'int_rate_ 10.37%', 'int_rate_ 10.38%', 'int_rate_ 10.39%', 'int_rate_ 10.41%', 'int_rate_ 10.42%', 'int_rate_ 10.46%', 'int_rate_ 10.47%', 'int_rate_ 10.49%', 'int_rate_ 10.51%', 'int_rate_ 10.56%', 'int_rate_ 10.59%', 'int_rate_ 10.62%', 'int_rate_ 10.64%', 'int_rate_ 10.65%', 'int_rate_ 10.71%', 'int_rate_ 10.72%', 'int_rate_ 10.74%', 'int_rate_ 10.75%', 'int_rate_ 10.78%', 'int_rate_ 10.81%', 'int_rate_ 10.83%', 'int_rate_ 10.90%', 'int_rate_ 10.91%', 'int_rate_ 10.95%', 'int_rate_ 10.96%', 'int_rate_ 10.99%', 'int_rate_ 11.02%', 'int_rate_ 11.03%', 'int_rate_ 11.05%', 'int_rate_ 11.06%', 'int_rate_ 11.09%', 'int_rate_ 11.11%', 'int_rate_ 11.12%', 'int_rate_ 11.14%', 'int_rate_ 11.16%', 'int_rate_ 11.22%', 'int_rate_ 11.26%', 'int_rate_ 11.28%', 'int_rate_ 11.31%', 'int_rate_ 11.34%', 'int_rate_ 11.36%', 'int_rate_ 11.39%', 'int_rate_ 11.41%', 'int_rate_ 11.44%', 'int_rate_ 11.46%', 'int_rate_ 11.47%', 'int_rate_ 11.48%', 'int_rate_ 11.49%', 'int_rate_ 11.53%', 'int_rate_ 11.54%', 'int_rate_ 11.55%', 'int_rate_ 11.58%', 'int_rate_ 11.59%', 'int_rate_ 11.63%', 'int_rate_ 11.66%', 'int_rate_ 11.67%', 'int_rate_ 11.71%', 'int_rate_ 11.72%', 'int_rate_ 11.78%', 'int_rate_ 11.80%', 'int_rate_ 11.83%', 'int_rate_ 11.86%', 'int_rate_ 11.89%', 'int_rate_ 11.91%', 'int_rate_ 11.97%', 'int_rate_ 11.98%', 'int_rate_ 11.99%', 'int_rate_ 12.04%', 'int_rate_ 12.05%', 'int_rate_ 12.09%', 'int_rate_ 12.12%', 'int_rate_ 12.13%', 'int_rate_ 12.17%', 'int_rate_ 12.18%', 'int_rate_ 12.21%', 'int_rate_ 12.22%', 'int_rate_ 12.23%', 'int_rate_ 12.29%', 'int_rate_ 12.35%', 'int_rate_ 12.36%', 'int_rate_ 12.39%', 'int_rate_ 12.40%', 'int_rate_ 12.41%', 'int_rate_ 12.42%', 'int_rate_ 12.49%', 'int_rate_ 12.53%', 'int_rate_ 12.54%', 'int_rate_ 12.59%', 'int_rate_ 12.61%', 'int_rate_ 12.62%', 'int_rate_ 12.67%', 'int_rate_ 12.68%', 'int_rate_ 12.69%', 'int_rate_ 12.72%', 'int_rate_ 12.73%', 'int_rate_ 12.74%', 'int_rate_ 12.79%', 'int_rate_ 12.80%', 'int_rate_ 12.84%', 'int_rate_ 12.85%', 'int_rate_ 12.86%', 'int_rate_ 12.87%', 'int_rate_ 12.88%', 'int_rate_ 12.92%', 'int_rate_ 12.98%', 'int_rate_ 12.99%', 'int_rate_ 13.04%', 'int_rate_ 13.05%', 'int_rate_ 13.06%', 'int_rate_ 13.08%', 'int_rate_ 13.11%', 'int_rate_ 13.12%', 'int_rate_ 13.16%', 'int_rate_ 13.17%', 'int_rate_ 13.18%', 'int_rate_ 13.19%', 'int_rate_ 13.22%', 'int_rate_ 13.23%', 'int_rate_ 13.24%', 'int_rate_ 13.30%', 'int_rate_ 13.33%', 'int_rate_ 13.35%', 'int_rate_ 13.36%', 'int_rate_ 13.43%', 'int_rate_ 13.44%', 'int_rate_ 13.47%', 'int_rate_ 13.48%', 'int_rate_ 13.49%', 'int_rate_ 13.53%', 'int_rate_ 13.55%', 'int_rate_ 13.56%', 'int_rate_ 13.57%', 'int_rate_ 13.58%', 'int_rate_ 13.59%', 'int_rate_ 13.61%', 'int_rate_ 13.62%', 'int_rate_ 13.65%', 'int_rate_ 13.66%', 'int_rate_ 13.67%', 'int_rate_ 13.68%', 'int_rate_ 13.72%', 'int_rate_ 13.75%', 'int_rate_ 13.79%', 'int_rate_ 13.80%', 'int_rate_ 13.84%', 'int_rate_ 13.85%', 'int_rate_ 13.87%', 'int_rate_ 13.90%', 'int_rate_ 13.92%', 'int_rate_ 13.93%', 'int_rate_ 13.98%', 'int_rate_ 13.99%', 'int_rate_ 14.02%', 'int_rate_ 14.03%', 'int_rate_ 14.07%', 'int_rate_ 14.08%', 'int_rate_ 14.09%', 'int_rate_ 14.11%', 'int_rate_ 14.12%', 'int_rate_ 14.16%', 'int_rate_ 14.17%', 'int_rate_ 14.18%', 'int_rate_ 14.22%', 'int_rate_ 14.25%', 'int_rate_ 14.26%', 'int_rate_ 14.27%', 'int_rate_ 14.28%', 'int_rate_ 14.30%', 'int_rate_ 14.31%', 'int_rate_ 14.33%', 'int_rate_ 14.35%', 'int_rate_ 14.38%', 'int_rate_ 14.42%', 'int_rate_ 14.46%', 'int_rate_ 14.47%', 'int_rate_ 14.48%', 'int_rate_ 14.49%', 'int_rate_ 14.50%', 'int_rate_ 14.52%', 'int_rate_ 14.54%', 'int_rate_ 14.59%', 'int_rate_ 14.61%', 'int_rate_ 14.62%', 'int_rate_ 14.64%', 'int_rate_ 14.65%', 'int_rate_ 14.67%', 'int_rate_ 14.70%', 'int_rate_ 14.71%', 'int_rate_ 14.72%', 'int_rate_ 14.74%', 'int_rate_ 14.75%', 'int_rate_ 14.77%', 'int_rate_ 14.79%', 'int_rate_ 14.82%', 'int_rate_ 14.83%', 'int_rate_ 14.84%', 'int_rate_ 14.85%', 'int_rate_ 14.88%', 'int_rate_ 14.91%', 'int_rate_ 14.93%', 'int_rate_ 14.96%', 'int_rate_ 14.98%', 'int_rate_ 14.99%', 'int_rate_ 15.01%', 'int_rate_ 15.02%', 'int_rate_ 15.04%', 'int_rate_ 15.05%', 'int_rate_ 15.07%', 'int_rate_ 15.10%', 'int_rate_ 15.13%', 'int_rate_ 15.20%', 'int_rate_ 15.21%', 'int_rate_ 15.22%', 'int_rate_ 15.23%', 'int_rate_ 15.24%', 'int_rate_ 15.25%', 'int_rate_ 15.27%', 'int_rate_ 15.28%', 'int_rate_ 15.29%', 'int_rate_ 15.31%', 'int_rate_ 15.33%', 'int_rate_ 15.37%', 'int_rate_ 15.38%', 'int_rate_ 15.40%', 'int_rate_ 15.41%', 'int_rate_ 15.45%', 'int_rate_ 15.49%', 'int_rate_ 15.57%', 'int_rate_ 15.58%', 'int_rate_ 15.59%', 'int_rate_ 15.61%', 'int_rate_ 15.62%', 'int_rate_ 15.65%', 'int_rate_ 15.68%', 'int_rate_ 15.70%', 'int_rate_ 15.76%', 'int_rate_ 15.77%', 'int_rate_ 15.80%', 'int_rate_ 15.81%', 'int_rate_ 15.83%', 'int_rate_ 15.88%', 'int_rate_ 15.95%', 'int_rate_ 15.96%', 'int_rate_ 15.99%', 'int_rate_ 16.00%', 'int_rate_ 16.01%', 'int_rate_ 16.02%', 'int_rate_ 16.07%', 'int_rate_ 16.08%', 'int_rate_ 16.11%', 'int_rate_ 16.12%', 'int_rate_ 16.14%', 'int_rate_ 16.15%', 'int_rate_ 16.20%', 'int_rate_ 16.24%', 'int_rate_ 16.29%', 'int_rate_ 16.32%', 'int_rate_ 16.33%', 'int_rate_ 16.35%', 'int_rate_ 16.40%', 'int_rate_ 16.45%', 'int_rate_ 16.46%', 'int_rate_ 16.49%', 'int_rate_ 16.55%', 'int_rate_ 16.59%', 'int_rate_ 16.63%', 'int_rate_ 16.69%', 'int_rate_ 16.70%', 'int_rate_ 16.71%', 'int_rate_ 16.77%', 'int_rate_ 16.78%', 'int_rate_ 16.82%', 'int_rate_ 16.89%', 'int_rate_ 16.90%', 'int_rate_ 16.91%', 'int_rate_ 16.95%', 'int_rate_ 16.96%', 'int_rate_ 16.99%', 'int_rate_ 17.03%', 'int_rate_ 17.04%', 'int_rate_ 17.06%', 'int_rate_ 17.09%', 'int_rate_ 17.10%', 'int_rate_ 17.14%', 'int_rate_ 17.15%', 'int_rate_ 17.19%', 'int_rate_ 17.26%', 'int_rate_ 17.27%', 'int_rate_ 17.30%', 'int_rate_ 17.34%', 'int_rate_ 17.39%', 'int_rate_ 17.43%', 'int_rate_ 17.44%', 'int_rate_ 17.46%', 'int_rate_ 17.47%', 'int_rate_ 17.49%', 'int_rate_ 17.50%', 'int_rate_ 17.51%', 'int_rate_ 17.54%', 'int_rate_ 17.56%', 'int_rate_ 17.57%', 'int_rate_ 17.58%', 'int_rate_ 17.74%', 'int_rate_ 17.76%', 'int_rate_ 17.77%', 'int_rate_ 17.80%', 'int_rate_ 17.86%', 'int_rate_ 17.88%', 'int_rate_ 17.90%', 'int_rate_ 17.93%', 'int_rate_ 17.97%', 'int_rate_ 17.99%', 'int_rate_ 18.06%', 'int_rate_ 18.07%', 'int_rate_ 18.09%', 'int_rate_ 18.17%', 'int_rate_ 18.20%', 'int_rate_ 18.21%', 'int_rate_ 18.24%', 'int_rate_ 18.25%', 'int_rate_ 18.30%', 'int_rate_ 18.36%', 'int_rate_ 18.39%', 'int_rate_ 18.43%', 'int_rate_ 18.45%', 'int_rate_ 18.49%', 'int_rate_ 18.53%', 'int_rate_ 18.54%', 'int_rate_ 18.55%', 'int_rate_ 18.62%', 'int_rate_ 18.64%', 'int_rate_ 18.67%', 'int_rate_ 18.72%', 'int_rate_ 18.75%', 'int_rate_ 18.78%', 'int_rate_ 18.79%', 'int_rate_ 18.84%', 'int_rate_ 18.85%', 'int_rate_ 18.91%', 'int_rate_ 18.92%', 'int_rate_ 18.94%', 'int_rate_ 18.99%', 'int_rate_ 19.03%', 'int_rate_ 19.04%', 'int_rate_ 19.05%', 'int_rate_ 19.12%', 'int_rate_ 19.13%', 'int_rate_ 19.16%', 'int_rate_ 19.19%', 'int_rate_ 19.20%', 'int_rate_ 19.22%', 'int_rate_ 19.24%', 'int_rate_ 19.29%', 'int_rate_ 19.36%', 'int_rate_ 19.39%', 'int_rate_ 19.41%', 'int_rate_ 19.42%', 'int_rate_ 19.47%', 'int_rate_ 19.48%', 'int_rate_ 19.52%', 'int_rate_ 19.53%', 'int_rate_ 19.66%', 'int_rate_ 19.69%', 'int_rate_ 19.72%', 'int_rate_ 19.74%', 'int_rate_ 19.79%', 'int_rate_ 19.82%', 'int_rate_ 19.89%', 'int_rate_ 19.91%', 'int_rate_ 19.92%', 'int_rate_ 19.95%', 'int_rate_ 19.97%', 'int_rate_ 19.99%', 'int_rate_ 20.00%', 'int_rate_ 20.03%', 'int_rate_ 20.11%', 'int_rate_ 20.16%', 'int_rate_ 20.17%', 'int_rate_ 20.20%', 'int_rate_ 20.25%', 'int_rate_ 20.30%', 'int_rate_ 20.31%', 'int_rate_ 20.39%', 'int_rate_ 20.40%', 'int_rate_ 20.48%', 'int_rate_ 20.49%', 'int_rate_ 20.50%', 'int_rate_ 20.52%', 'int_rate_ 20.53%', 'int_rate_ 20.55%', 'int_rate_ 20.62%', 'int_rate_ 20.69%', 'int_rate_ 20.74%', 'int_rate_ 20.75%', 'int_rate_ 20.77%', 'int_rate_ 20.80%', 'int_rate_ 20.85%', 'int_rate_ 20.86%', 'int_rate_ 20.89%', 'int_rate_ 20.90%', 'int_rate_ 20.99%', 'int_rate_ 21.00%', 'int_rate_ 21.14%', 'int_rate_ 21.15%', 'int_rate_ 21.18%', 'int_rate_ 21.21%', 'int_rate_ 21.22%', 'int_rate_ 21.27%', 'int_rate_ 21.28%', 'int_rate_ 21.36%', 'int_rate_ 21.45%', 'int_rate_ 21.48%', 'int_rate_ 21.49%', 'int_rate_ 21.59%', 'int_rate_ 21.60%', 'int_rate_ 21.64%', 'int_rate_ 21.67%', 'int_rate_ 21.70%', 'int_rate_ 21.74%', 'int_rate_ 21.82%', 'int_rate_ 21.85%', 'int_rate_ 21.97%', 'int_rate_ 21.98%', 'int_rate_ 21.99%', 'int_rate_ 22.06%', 'int_rate_ 22.11%', 'int_rate_ 22.15%', 'int_rate_ 22.20%', 'int_rate_ 22.35%', 'int_rate_ 22.39%', 'int_rate_ 22.40%', 'int_rate_ 22.45%', 'int_rate_ 22.47%', 'int_rate_ 22.48%', 'int_rate_ 22.50%', 'int_rate_ 22.64%', 'int_rate_ 22.70%', 'int_rate_ 22.74%', 'int_rate_ 22.78%', 'int_rate_ 22.85%', 'int_rate_ 22.90%', 'int_rate_ 22.91%', 'int_rate_ 22.94%', 'int_rate_ 22.95%', 'int_rate_ 22.99%', 'int_rate_ 23.05%', 'int_rate_ 23.10%', 'int_rate_ 23.13%', 'int_rate_ 23.22%', 'int_rate_ 23.26%', 'int_rate_ 23.28%', 'int_rate_ 23.32%', 'int_rate_ 23.33%', 'int_rate_ 23.40%', 'int_rate_ 23.43%', 'int_rate_ 23.50%', 'int_rate_ 23.52%', 'int_rate_ 23.59%', 'int_rate_ 23.63%', 'int_rate_ 23.70%', 'int_rate_ 23.76%', 'int_rate_ 23.83%', 'int_rate_ 23.87%', 'int_rate_ 23.88%', 'int_rate_ 23.91%', 'int_rate_ 23.99%', 'int_rate_ 24.08%', 'int_rate_ 24.11%', 'int_rate_ 24.20%', 'int_rate_ 24.24%', 'int_rate_ 24.33%', 'int_rate_ 24.37%', 'int_rate_ 24.40%', 'int_rate_ 24.49%', 'int_rate_ 24.50%', 'int_rate_ 24.52%', 'int_rate_ 24.59%', 'int_rate_ 24.70%', 'int_rate_ 24.74%', 'int_rate_ 24.76%', 'int_rate_ 24.83%', 'int_rate_ 24.84%', 'int_rate_ 24.85%', 'int_rate_ 24.89%', 'int_rate_ 24.99%', 'int_rate_ 25.00%', 'int_rate_ 25.09%', 'int_rate_ 25.11%', 'int_rate_ 25.28%', 'int_rate_ 25.29%', 'int_rate_ 25.34%', 'int_rate_ 25.44%', 'int_rate_ 25.49%', 'int_rate_ 25.57%', 'int_rate_ 25.65%', 'int_rate_ 25.69%', 'int_rate_ 25.78%', 'int_rate_ 25.80%', 'int_rate_ 25.81%', 'int_rate_ 25.82%', 'int_rate_ 25.83%', 'int_rate_ 25.88%', 'int_rate_ 25.89%', 'int_rate_ 25.99%', 'int_rate_ 26.06%', 'int_rate_ 26.14%', 'int_rate_ 26.24%', 'int_rate_ 26.30%', 'int_rate_ 26.31%', 'int_rate_ 26.49%', 'int_rate_ 26.57%', 'int_rate_ 26.77%', 'int_rate_ 26.99%', 'int_rate_ 27.05%', 'int_rate_ 27.27%', 'int_rate_ 27.31%', 'int_rate_ 27.34%', 'int_rate_ 27.49%', 'int_rate_ 27.79%', 'int_rate_ 27.88%', 'int_rate_ 27.99%', 'int_rate_ 28.14%', 'int_rate_ 28.18%', 'int_rate_ 28.34%', 'int_rate_ 28.49%', 'int_rate_ 28.67%', 'int_rate_ 28.69%', 'int_rate_ 28.72%', 'int_rate_ 28.80%', 'int_rate_ 28.88%', 'int_rate_ 28.90%', 'int_rate_ 28.92%', 'int_rate_ 28.95%', 'int_rate_ 28.97%', 'int_rate_ 28.99%', 'int_rate_ 29.00%', 'int_rate_ 29.35%', 'int_rate_ 29.49%', 'int_rate_ 29.67%', 'int_rate_ 29.69%', 'int_rate_ 29.96%', 'int_rate_ 29.99%', 'int_rate_ 30.17%', 'int_rate_ 30.49%', 'int_rate_ 30.65%', 'int_rate_ 30.74%', 'int_rate_ 30.75%', 'int_rate_ 30.79%', 'int_rate_ 30.84%', 'int_rate_ 30.89%', 'int_rate_ 30.94%', 'int_rate_ 30.99%', 'purpose_credit_card', 'purpose_debt_consolidation', 'purpose_educational', 'purpose_home_improvement', 'purpose_house', 'purpose_major_purchase', 'purpose_medical', 'purpose_moving', 'purpose_other', 'purpose_renewable_energy', 'purpose_small_business', 'purpose_vacation', 'purpose_wedding']\n"
     ]
    }
   ],
   "source": [
    "# One-hot encode categorical variables like 'term' and 'purpose'\n",
    "df = pd.get_dummies(df, drop_first=True)  # drop_first avoids dummy variable trap\n",
    "# Check the resulting columns\n",
    "print(\"\\nColumns after one-hot encoding:\")\n",
    "print(df.columns.tolist())"
   ]
  },
  {
   "cell_type": "code",
   "execution_count": 14,
   "metadata": {},
   "outputs": [],
   "source": [
    "# 4. Train/Test Split\n",
    "# I separate my features (X) from the target variable (y)\n",
    "X = df.drop(\"loan_status\", axis=1)\n",
    "y = df[\"loan_status\"]\n",
    "\n",
    "# split the data into training and testing sets to evaluate performance fairly\n",
    "X_train, X_test, y_train, y_test = train_test_split(X, y, test_size=0.2, random_state=42)\n",
    "\n"
   ]
  },
  {
   "cell_type": "markdown",
   "metadata": {},
   "source": [
    "# Baseline: Logistic Regression"
   ]
  },
  {
   "cell_type": "code",
   "execution_count": 15,
   "metadata": {},
   "outputs": [],
   "source": [
    "# use logistic regression as my baseline model (as did in Assignment 2)\n",
    "## getting errors or it runs for over 30min - troubleshooting showed a solution of using a scaler \n",
    "# baseline_model = LogisticRegression(max_iter=1000)\n",
    "# baseline_model.fit(X_train, y_train)\n",
    "\n",
    "from sklearn.preprocessing import StandardScaler\n",
    "\n",
    "# scale the feature data before training logistic regression\n",
    "\n",
    "scaler = StandardScaler()\n",
    "X_train_scaled = scaler.fit_transform(X_train)\n",
    "X_test_scaled = scaler.transform(X_test)\n",
    "\n",
    "# train the baseline model with scaled inputs\n",
    "baseline_model = LogisticRegression(max_iter=1000, solver='lbfgs')\n",
    "baseline_model.fit(X_train_scaled, y_train)\n",
    "\n",
    "# predict using the scaled test set\n",
    "y_pred_base = baseline_model.predict(X_test_scaled)\n",
    "y_prob_base = baseline_model.predict_proba(X_test_scaled)[:, 1]\n"
   ]
  },
  {
   "cell_type": "markdown",
   "metadata": {},
   "source": [
    "# Challenger: Random Forest"
   ]
  },
  {
   "cell_type": "code",
   "execution_count": 16,
   "metadata": {},
   "outputs": [],
   "source": [
    "# train a Random Forest model as my challenger (Session 6 technique)\n",
    "#rf_model = RandomForestClassifier(n_estimators=100, random_state=42)\n",
    "#rf_model.fit(X_train, y_train)\n",
    "#limiting the tree depth \n",
    "#rf_model = RandomForestClassifier(n_estimators=100, max_depth=10, random_state=42)\n",
    "#rf_model.fit(X_train, y_train)\n",
    "# Trying with a 100k random sample\n",
    "\n",
    "df_sample = df.sample(n=100_000, random_state=42)\n",
    "\n",
    "# define features and target\n",
    "X = df_sample.drop(\"loan_status\", axis=1)\n",
    "y = df_sample[\"loan_status\"]\n",
    "\n",
    "# split into training and test sets\n",
    "X_train, X_test, y_train, y_test = train_test_split(X, y, test_size=0.2, random_state=42)\n",
    "\n",
    "# train a Random Forest model with depth limit to reduce complexity and training time\n",
    "rf_model = RandomForestClassifier(n_estimators=100, max_depth=10, random_state=42)\n",
    "rf_model.fit(X_train, y_train)\n",
    "\n",
    "# generate predictions and probabilities\n",
    "y_pred_rf = rf_model.predict(X_test)\n",
    "y_prob_rf = rf_model.predict_proba(X_test)[:, 1]\n"
   ]
  },
  {
   "cell_type": "markdown",
   "metadata": {},
   "source": [
    "## Model Evaluation part:"
   ]
  },
  {
   "cell_type": "code",
   "execution_count": 17,
   "metadata": {},
   "outputs": [],
   "source": [
    "# define evaluation function\n",
    "def evaluate_model(name, y_true, y_pred, y_prob):\n",
    "    print(f\"\\n{name} Evaluation Metrics\")\n",
    "    print(\"Accuracy:\", accuracy_score(y_true, y_pred))\n",
    "    print(\"Precision:\", precision_score(y_true, y_pred))\n",
    "    print(\"Recall:\", recall_score(y_true, y_pred))\n",
    "    print(\"F1 Score:\", f1_score(y_true, y_pred))\n",
    "    print(\"ROC AUC:\", roc_auc_score(y_true, y_prob))\n",
    "    \n",
    "    # confusion matrix\n",
    "    cm = confusion_matrix(y_true, y_pred)\n",
    "    sns.heatmap(cm, annot=True, fmt='d', cmap='Blues')\n",
    "    plt.title(f\"Confusion Matrix - {name}\")\n",
    "    plt.xlabel(\"Predicted\")\n",
    "    plt.ylabel(\"Actual\")\n",
    "    plt.show()\n"
   ]
  },
  {
   "cell_type": "markdown",
   "metadata": {},
   "source": [
    "### BUG in random forest - mixed sample with full data - rerun below"
   ]
  },
  {
   "cell_type": "code",
   "execution_count": 18,
   "metadata": {},
   "outputs": [],
   "source": [
    "#y_test from the original full dataset (372,067 samples)\n",
    "#But y_pred_rf and y_prob_rf come from a 100,000-sample model (20,000 test samples)"
   ]
  },
  {
   "cell_type": "code",
   "execution_count": 19,
   "metadata": {},
   "outputs": [
    {
     "name": "stdout",
     "output_type": "stream",
     "text": [
      "\n",
      "Challenger (Random Forest) Evaluation Metrics\n",
      "Accuracy: 0.6578\n",
      "Precision: 0.29559748427672955\n",
      "Recall: 0.539678489410564\n",
      "F1 Score: 0.3819757991692252\n",
      "ROC AUC: 0.6702794266566969\n"
     ]
    },
    {
     "data": {
      "image/png": "[encoded data removed]",
      "text/plain": [
       "<Figure size 640x480 with 2 Axes>"
      ]
     },
     "metadata": {},
     "output_type": "display_data"
    }
   ],
   "source": [
    "# re-split to avoid mismatch\n",
    "X_train_rf, X_test_rf, y_train_rf, y_test_rf = train_test_split(X, y, test_size=0.2, random_state=42)\n",
    "\n",
    "# train with balanced class weights and higher depth\n",
    "rf_model = RandomForestClassifier(\n",
    "    n_estimators=100,\n",
    "    max_depth=20,\n",
    "    class_weight='balanced',\n",
    "    random_state=42\n",
    ")\n",
    "rf_model.fit(X_train_rf, y_train_rf)\n",
    "\n",
    "# predictions\n",
    "y_pred_rf = rf_model.predict(X_test_rf)\n",
    "y_prob_rf = rf_model.predict_proba(X_test_rf)[:, 1]\n",
    "\n",
    "# evaluate again\n",
    "evaluate_model(\"Challenger (Random Forest)\", y_test_rf, y_pred_rf, y_prob_rf)\n"
   ]
  },
  {
   "cell_type": "code",
   "execution_count": 20,
   "metadata": {},
   "outputs": [
    {
     "name": "stdout",
     "output_type": "stream",
     "text": [
      "\n",
      "Challenger (Random Forest) Evaluation Metrics\n",
      "Accuracy: 0.6578\n",
      "Precision: 0.29559748427672955\n",
      "Recall: 0.539678489410564\n",
      "F1 Score: 0.3819757991692252\n",
      "ROC AUC: 0.6702794266566969\n"
     ]
    },
    {
     "data": {
      "image/png": "[encoded data removed]",
      "text/plain": [
       "<Figure size 640x480 with 2 Axes>"
      ]
     },
     "metadata": {},
     "output_type": "display_data"
    }
   ],
   "source": [
    "# BUG TEST confusion matrix - evaluate with matching test set - \n",
    "evaluate_model(\"Challenger (Random Forest)\", y_test_rf, y_pred_rf, y_prob_rf)\n"
   ]
  },
  {
   "cell_type": "markdown",
   "metadata": {},
   "source": []
  },
  {
   "cell_type": "markdown",
   "metadata": {},
   "source": [
    "# FINAL BLOCK"
   ]
  },
  {
   "cell_type": "code",
   "execution_count": 21,
   "metadata": {},
   "outputs": [],
   "source": [
    "# make sure to use scaled test set for baseline predictions again\n",
    "y_pred_base = baseline_model.predict(X_test_scaled)\n",
    "y_prob_base = baseline_model.predict_proba(X_test_scaled)[:, 1]\n"
   ]
  },
  {
   "cell_type": "code",
   "execution_count": 22,
   "metadata": {},
   "outputs": [
    {
     "ename": "ValueError",
     "evalue": "Found input variables with inconsistent numbers of samples: [20000, 372067]",
     "output_type": "error",
     "traceback": [
      "\u001b[0;31m---------------------------------------------------------------------------\u001b[0m",
      "\u001b[0;31mValueError\u001b[0m                                Traceback (most recent call last)",
      "Cell \u001b[0;32mIn[22], line 2\u001b[0m\n\u001b[1;32m      1\u001b[0m \u001b[38;5;66;03m# plot ROC curves for both models using correct labels\u001b[39;00m\n\u001b[0;32m----> 2\u001b[0m fpr_base, tpr_base, _ \u001b[38;5;241m=\u001b[39m roc_curve(y_test, y_prob_base)       \u001b[38;5;66;03m# baseline: scaled full test set\u001b[39;00m\n\u001b[1;32m      3\u001b[0m fpr_rf, tpr_rf, _ \u001b[38;5;241m=\u001b[39m roc_curve(y_test_rf, y_prob_rf)          \u001b[38;5;66;03m# challenger: sampled test set\u001b[39;00m\n\u001b[1;32m      5\u001b[0m plt\u001b[38;5;241m.\u001b[39mfigure(figsize\u001b[38;5;241m=\u001b[39m(\u001b[38;5;241m8\u001b[39m, \u001b[38;5;241m6\u001b[39m))\n",
      "File \u001b[0;32m/opt/anaconda3/lib/python3.12/site-packages/sklearn/utils/_param_validation.py:213\u001b[0m, in \u001b[0;36mvalidate_params.<locals>.decorator.<locals>.wrapper\u001b[0;34m(*args, **kwargs)\u001b[0m\n\u001b[1;32m    207\u001b[0m \u001b[38;5;28;01mtry\u001b[39;00m:\n\u001b[1;32m    208\u001b[0m     \u001b[38;5;28;01mwith\u001b[39;00m config_context(\n\u001b[1;32m    209\u001b[0m         skip_parameter_validation\u001b[38;5;241m=\u001b[39m(\n\u001b[1;32m    210\u001b[0m             prefer_skip_nested_validation \u001b[38;5;129;01mor\u001b[39;00m global_skip_validation\n\u001b[1;32m    211\u001b[0m         )\n\u001b[1;32m    212\u001b[0m     ):\n\u001b[0;32m--> 213\u001b[0m         \u001b[38;5;28;01mreturn\u001b[39;00m func(\u001b[38;5;241m*\u001b[39margs, \u001b[38;5;241m*\u001b[39m\u001b[38;5;241m*\u001b[39mkwargs)\n\u001b[1;32m    214\u001b[0m \u001b[38;5;28;01mexcept\u001b[39;00m InvalidParameterError \u001b[38;5;28;01mas\u001b[39;00m e:\n\u001b[1;32m    215\u001b[0m     \u001b[38;5;66;03m# When the function is just a wrapper around an estimator, we allow\u001b[39;00m\n\u001b[1;32m    216\u001b[0m     \u001b[38;5;66;03m# the function to delegate validation to the estimator, but we replace\u001b[39;00m\n\u001b[1;32m    217\u001b[0m     \u001b[38;5;66;03m# the name of the estimator by the name of the function in the error\u001b[39;00m\n\u001b[1;32m    218\u001b[0m     \u001b[38;5;66;03m# message to avoid confusion.\u001b[39;00m\n\u001b[1;32m    219\u001b[0m     msg \u001b[38;5;241m=\u001b[39m re\u001b[38;5;241m.\u001b[39msub(\n\u001b[1;32m    220\u001b[0m         \u001b[38;5;124mr\u001b[39m\u001b[38;5;124m\"\u001b[39m\u001b[38;5;124mparameter of \u001b[39m\u001b[38;5;124m\\\u001b[39m\u001b[38;5;124mw+ must be\u001b[39m\u001b[38;5;124m\"\u001b[39m,\n\u001b[1;32m    221\u001b[0m         \u001b[38;5;124mf\u001b[39m\u001b[38;5;124m\"\u001b[39m\u001b[38;5;124mparameter of \u001b[39m\u001b[38;5;132;01m{\u001b[39;00mfunc\u001b[38;5;241m.\u001b[39m\u001b[38;5;18m__qualname__\u001b[39m\u001b[38;5;132;01m}\u001b[39;00m\u001b[38;5;124m must be\u001b[39m\u001b[38;5;124m\"\u001b[39m,\n\u001b[1;32m    222\u001b[0m         \u001b[38;5;28mstr\u001b[39m(e),\n\u001b[1;32m    223\u001b[0m     )\n",
      "File \u001b[0;32m/opt/anaconda3/lib/python3.12/site-packages/sklearn/metrics/_ranking.py:1145\u001b[0m, in \u001b[0;36mroc_curve\u001b[0;34m(y_true, y_score, pos_label, sample_weight, drop_intermediate)\u001b[0m\n\u001b[1;32m   1043\u001b[0m \u001b[38;5;129m@validate_params\u001b[39m(\n\u001b[1;32m   1044\u001b[0m     {\n\u001b[1;32m   1045\u001b[0m         \u001b[38;5;124m\"\u001b[39m\u001b[38;5;124my_true\u001b[39m\u001b[38;5;124m\"\u001b[39m: [\u001b[38;5;124m\"\u001b[39m\u001b[38;5;124marray-like\u001b[39m\u001b[38;5;124m\"\u001b[39m],\n\u001b[0;32m   (...)\u001b[0m\n\u001b[1;32m   1054\u001b[0m     y_true, y_score, \u001b[38;5;241m*\u001b[39m, pos_label\u001b[38;5;241m=\u001b[39m\u001b[38;5;28;01mNone\u001b[39;00m, sample_weight\u001b[38;5;241m=\u001b[39m\u001b[38;5;28;01mNone\u001b[39;00m, drop_intermediate\u001b[38;5;241m=\u001b[39m\u001b[38;5;28;01mTrue\u001b[39;00m\n\u001b[1;32m   1055\u001b[0m ):\n\u001b[1;32m   1056\u001b[0m \u001b[38;5;250m    \u001b[39m\u001b[38;5;124;03m\"\"\"Compute Receiver operating characteristic (ROC).\u001b[39;00m\n\u001b[1;32m   1057\u001b[0m \n\u001b[1;32m   1058\u001b[0m \u001b[38;5;124;03m    Note: this implementation is restricted to the binary classification task.\u001b[39;00m\n\u001b[0;32m   (...)\u001b[0m\n\u001b[1;32m   1143\u001b[0m \u001b[38;5;124;03m    array([ inf, 0.8 , 0.4 , 0.35, 0.1 ])\u001b[39;00m\n\u001b[1;32m   1144\u001b[0m \u001b[38;5;124;03m    \"\"\"\u001b[39;00m\n\u001b[0;32m-> 1145\u001b[0m     fps, tps, thresholds \u001b[38;5;241m=\u001b[39m _binary_clf_curve(\n\u001b[1;32m   1146\u001b[0m         y_true, y_score, pos_label\u001b[38;5;241m=\u001b[39mpos_label, sample_weight\u001b[38;5;241m=\u001b[39msample_weight\n\u001b[1;32m   1147\u001b[0m     )\n\u001b[1;32m   1149\u001b[0m     \u001b[38;5;66;03m# Attempt to drop thresholds corresponding to points in between and\u001b[39;00m\n\u001b[1;32m   1150\u001b[0m     \u001b[38;5;66;03m# collinear with other points. These are always suboptimal and do not\u001b[39;00m\n\u001b[1;32m   1151\u001b[0m     \u001b[38;5;66;03m# appear on a plotted ROC curve (and thus do not affect the AUC).\u001b[39;00m\n\u001b[0;32m   (...)\u001b[0m\n\u001b[1;32m   1156\u001b[0m     \u001b[38;5;66;03m# but does not drop more complicated cases like fps = [1, 3, 7],\u001b[39;00m\n\u001b[1;32m   1157\u001b[0m     \u001b[38;5;66;03m# tps = [1, 2, 4]; there is no harm in keeping too many thresholds.\u001b[39;00m\n\u001b[1;32m   1158\u001b[0m     \u001b[38;5;28;01mif\u001b[39;00m drop_intermediate \u001b[38;5;129;01mand\u001b[39;00m \u001b[38;5;28mlen\u001b[39m(fps) \u001b[38;5;241m>\u001b[39m \u001b[38;5;241m2\u001b[39m:\n",
      "File \u001b[0;32m/opt/anaconda3/lib/python3.12/site-packages/sklearn/metrics/_ranking.py:819\u001b[0m, in \u001b[0;36m_binary_clf_curve\u001b[0;34m(y_true, y_score, pos_label, sample_weight)\u001b[0m\n\u001b[1;32m    816\u001b[0m \u001b[38;5;28;01mif\u001b[39;00m \u001b[38;5;129;01mnot\u001b[39;00m (y_type \u001b[38;5;241m==\u001b[39m \u001b[38;5;124m\"\u001b[39m\u001b[38;5;124mbinary\u001b[39m\u001b[38;5;124m\"\u001b[39m \u001b[38;5;129;01mor\u001b[39;00m (y_type \u001b[38;5;241m==\u001b[39m \u001b[38;5;124m\"\u001b[39m\u001b[38;5;124mmulticlass\u001b[39m\u001b[38;5;124m\"\u001b[39m \u001b[38;5;129;01mand\u001b[39;00m pos_label \u001b[38;5;129;01mis\u001b[39;00m \u001b[38;5;129;01mnot\u001b[39;00m \u001b[38;5;28;01mNone\u001b[39;00m)):\n\u001b[1;32m    817\u001b[0m     \u001b[38;5;28;01mraise\u001b[39;00m \u001b[38;5;167;01mValueError\u001b[39;00m(\u001b[38;5;124m\"\u001b[39m\u001b[38;5;132;01m{0}\u001b[39;00m\u001b[38;5;124m format is not supported\u001b[39m\u001b[38;5;124m\"\u001b[39m\u001b[38;5;241m.\u001b[39mformat(y_type))\n\u001b[0;32m--> 819\u001b[0m check_consistent_length(y_true, y_score, sample_weight)\n\u001b[1;32m    820\u001b[0m y_true \u001b[38;5;241m=\u001b[39m column_or_1d(y_true)\n\u001b[1;32m    821\u001b[0m y_score \u001b[38;5;241m=\u001b[39m column_or_1d(y_score)\n",
      "File \u001b[0;32m/opt/anaconda3/lib/python3.12/site-packages/sklearn/utils/validation.py:457\u001b[0m, in \u001b[0;36mcheck_consistent_length\u001b[0;34m(*arrays)\u001b[0m\n\u001b[1;32m    455\u001b[0m uniques \u001b[38;5;241m=\u001b[39m np\u001b[38;5;241m.\u001b[39munique(lengths)\n\u001b[1;32m    456\u001b[0m \u001b[38;5;28;01mif\u001b[39;00m \u001b[38;5;28mlen\u001b[39m(uniques) \u001b[38;5;241m>\u001b[39m \u001b[38;5;241m1\u001b[39m:\n\u001b[0;32m--> 457\u001b[0m     \u001b[38;5;28;01mraise\u001b[39;00m \u001b[38;5;167;01mValueError\u001b[39;00m(\n\u001b[1;32m    458\u001b[0m         \u001b[38;5;124m\"\u001b[39m\u001b[38;5;124mFound input variables with inconsistent numbers of samples: \u001b[39m\u001b[38;5;132;01m%r\u001b[39;00m\u001b[38;5;124m\"\u001b[39m\n\u001b[1;32m    459\u001b[0m         \u001b[38;5;241m%\u001b[39m [\u001b[38;5;28mint\u001b[39m(l) \u001b[38;5;28;01mfor\u001b[39;00m l \u001b[38;5;129;01min\u001b[39;00m lengths]\n\u001b[1;32m    460\u001b[0m     )\n",
      "\u001b[0;31mValueError\u001b[0m: Found input variables with inconsistent numbers of samples: [20000, 372067]"
     ]
    }
   ],
   "source": [
    "# plot ROC curves for both models using correct labels\n",
    "fpr_base, tpr_base, _ = roc_curve(y_test, y_prob_base)       # baseline: scaled full test set\n",
    "fpr_rf, tpr_rf, _ = roc_curve(y_test_rf, y_prob_rf)          # challenger: sampled test set\n",
    "\n",
    "plt.figure(figsize=(8, 6))\n",
    "plt.plot(fpr_base, tpr_base, label='LogReg (Baseline - Full)')\n",
    "plt.plot(fpr_rf, tpr_rf, label='Random Forest (Challenger - Sampled)')\n",
    "plt.plot([0, 1], [0, 1], linestyle='--', label='Random Chance')\n",
    "plt.title(\"ROC Curve Comparison\")\n",
    "plt.xlabel(\"False Positive Rate\")\n",
    "plt.ylabel(\"True Positive Rate\")\n",
    "plt.legend()\n",
    "plt.show()\n"
   ]
  },
  {
   "cell_type": "code",
   "execution_count": null,
   "metadata": {},
   "outputs": [],
   "source": [
    "# in case your scaled baseline test labels were overwritten, restore them\n",
    "_, X_test_scaled, _, y_test_scaled = train_test_split(X, y, test_size=0.2, random_state=42)\n"
   ]
  },
  {
   "cell_type": "code",
   "execution_count": null,
   "metadata": {},
   "outputs": [
    {
     "name": "stdout",
     "output_type": "stream",
     "text": [
      "20000 372067\n",
      "20000 20000\n"
     ]
    }
   ],
   "source": [
    "print(len(y_test), len(y_prob_base))\n",
    "print(len(y_test_rf), len(y_prob_rf))\n"
   ]
  },
  {
   "cell_type": "code",
   "execution_count": null,
   "metadata": {},
   "outputs": [],
   "source": [
    "# retrain baseline model on the same 100k sample to align with RF\n",
    "X_train_base, X_test_base, y_train_base, y_test_base = train_test_split(X, y, test_size=0.2, random_state=42)\n",
    "\n",
    "# scale the 100k sample's features\n",
    "scaler = StandardScaler()\n",
    "X_train_base_scaled = scaler.fit_transform(X_train_base)\n",
    "X_test_base_scaled = scaler.transform(X_test_base)\n",
    "\n",
    "# retrain baseline model\n",
    "baseline_model = LogisticRegression(max_iter=1000, solver='lbfgs')\n",
    "baseline_model.fit(X_train_base_scaled, y_train_base)\n",
    "\n",
    "# generate predictions\n",
    "y_pred_base = baseline_model.predict(X_test_base_scaled)\n",
    "y_prob_base = baseline_model.predict_proba(X_test_base_scaled)[:, 1]\n"
   ]
  },
  {
   "cell_type": "code",
   "execution_count": null,
   "metadata": {},
   "outputs": [
    {
     "data": {
      "image/png": "[encoded data removed]",
      "text/plain": [
       "<Figure size 800x600 with 1 Axes>"
      ]
     },
     "metadata": {},
     "output_type": "display_data"
    }
   ],
   "source": [
    "# plot with correct test labels for each model\n",
    "fpr_base, tpr_base, _ = roc_curve(y_test_scaled, y_prob_base)   # baseline\n",
    "fpr_rf, tpr_rf, _ = roc_curve(y_test_rf, y_prob_rf)              # challenger\n",
    "\n",
    "plt.figure(figsize=(8, 6))\n",
    "plt.plot(fpr_base, tpr_base, label='LogReg (Baseline - Full)')\n",
    "plt.plot(fpr_rf, tpr_rf, label='Random Forest (Challenger - Sampled)')\n",
    "plt.plot([0, 1], [0, 1], linestyle='--', label='Random Chance')\n",
    "plt.title(\"ROC Curve Comparison\")\n",
    "plt.xlabel(\"False Positive Rate\")\n",
    "plt.ylabel(\"True Positive Rate\")\n",
    "plt.legend()\n",
    "plt.show()\n"
   ]
  },
  {
   "cell_type": "markdown",
   "metadata": {},
   "source": [
    "§"
   ]
  },
  {
   "cell_type": "markdown",
   "metadata": {},
   "source": [
    "# CONCLUSION\n"
   ]
  },
  {
   "cell_type": "markdown",
   "metadata": {},
   "source": [
    "After testing both on the same sample, Logistic Regression slightly outperformed Random Forest in overall accuracy and ROC AUC. The results suggest the baseline is still more reliable for this dataset.\n"
   ]
  }
 ],
 "metadata": {
  "kernelspec": {
   "display_name": "base",
   "language": "python",
   "name": "python3"
  },
  "language_info": {
   "codemirror_mode": {
    "name": "ipython",
    "version": 3
   },
   "file_extension": ".py",
   "mimetype": "text/x-python",
   "name": "python",
   "nbconvert_exporter": "python",
   "pygments_lexer": "ipython3",
   "version": "3.12.7"
  }
 },
 "nbformat": 4,
 "nbformat_minor": 2
}
